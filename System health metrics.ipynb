{
 "cells": [
  {
   "cell_type": "code",
   "execution_count": null,
   "id": "eaa121df",
   "metadata": {},
   "outputs": [],
   "source": [
    "import time\n",
    "import psutil\n",
    "import pandas as pd\n",
    "from sklearn.ensemble import IsolationForest\n",
    "import matplotlib.pyplot as plt\n",
    "from prometheus_client import start_http_server, Gauge"
   ]
  },
  {
   "cell_type": "code",
   "execution_count": null,
   "id": "bba7ed37",
   "metadata": {},
   "outputs": [],
   "source": [
    "cpu_threshold = 80  # CPU usage threshold (%)\n",
    "memory_threshold = 70  # Memory usage threshold (%)\n",
    "disk_threshold = 80  # Disk usage threshold (%)\n",
    "traffic_threshold = 1000  # Network traffic threshold (bytes/s)"
   ]
  },
  {
   "cell_type": "code",
   "execution_count": null,
   "id": "4f12223e",
   "metadata": {},
   "outputs": [],
   "source": [
    "# Create Prometheus metrics\n",
    "cpu_usage_metric = Gauge('cpu_usage_percent', 'CPU Usage (%)')\n",
    "memory_usage_metric = Gauge('memory_usage_percent', 'Memory Usage (%)')\n",
    "disk_usage_metric = Gauge('disk_usage_percent', 'Disk Usage (%)')\n",
    "network_traffic_metric = Gauge('network_traffic_bytes', 'Network Traffic (bytes)')"
   ]
  },
  {
   "cell_type": "code",
   "execution_count": null,
   "id": "f6322cc4",
   "metadata": {},
   "outputs": [],
   "source": [
    "def get_cpu_usage():\n",
    "    # Function to get the current CPU usage as a percentage.\n",
    "    return psutil.cpu_percent(interval=1)"
   ]
  },
  {
   "cell_type": "code",
   "execution_count": null,
   "id": "3b274290",
   "metadata": {},
   "outputs": [],
   "source": [
    "def get_memory_usage():\n",
    "    # Function to get the current memory usage as a percentage.\n",
    "    return psutil.virtual_memory().percent"
   ]
  },
  {
   "cell_type": "code",
   "execution_count": null,
   "id": "553b6f25",
   "metadata": {},
   "outputs": [],
   "source": [
    "def get_disk_usage():\n",
    "    # Function to get the current disk usage as a percentage.\n",
    "    return psutil.disk_usage('/').percent"
   ]
  },
  {
   "cell_type": "code",
   "execution_count": null,
   "id": "7cea55bb",
   "metadata": {},
   "outputs": [],
   "source": [
    "def get_network_traffic():\n",
    "    \"\"\"\n",
    "    Get the current network traffic in bytes.\n",
    "    \"\"\"\n",
    "    return psutil.net_io_counters().bytes_sent + psutil.net_io_counters().bytes_recv"
   ]
  },
  {
   "cell_type": "code",
   "execution_count": null,
   "id": "830a152d",
   "metadata": {},
   "outputs": [],
   "source": [
    "def collect_system_metrics(data_file, sampling_interval):\n",
    "    # Open the file in append mode\n",
    "    with open(data_file, 'a') as f:\n",
    "        # Write the header if the file is empty\n",
    "        if f.tell() == 0:\n",
    "            f.write('Timestamp, CPU Usage (%), Memory Usage (%), Disk Usage (%), Network Traffic (bytes)\\n')\n",
    "\n",
    "        # Start the data collection loop\n",
    "        while True:\n",
    "            # Get the current timestamp\n",
    "            timestamp = int(time.time())\n",
    "\n",
    "            # Retrieve the system metrics\n",
    "            cpu_usage = get_cpu_usage()\n",
    "            memory_usage = get_memory_usage()\n",
    "            disk_usage = get_disk_usage()\n",
    "            network_traffic = get_network_traffic()\n",
    "\n",
    "            # Write the metrics to the file\n",
    "            f.write(f'{timestamp}, {cpu_usage}, {memory_usage}, {disk_usage}, {network_traffic}\\n')\n",
    "            f.flush()  # Flush the buffer to ensure immediate write to the file\n",
    "\n",
    "            # Update Prometheus metrics\n",
    "            cpu_usage_metric.set(cpu_usage)\n",
    "            memory_usage_metric.set(memory_usage)\n",
    "            disk_usage_metric.set(disk_usage)\n",
    "            network_traffic_metric.set(network_traffic)\n",
    "\n",
    "            # Check if any metric exceeds the defined thresholds\n",
    "            if cpu_usage > cpu_threshold or memory_usage > memory_threshold or disk_usage > disk_threshold:\n",
    "                # Raise an alert\n",
    "                alert_message = f\"Anomaly detected at {timestamp}: CPU Usage: {cpu_usage}%, Memory Usage: {memory_usage}%, Disk Usage: {disk_usage}%\"\n",
    "                send_alert(alert_message)\n",
    "\n",
    "            # Sleep for the specified sampling interval\n",
    "            time.sleep(sampling_interval)"
   ]
  },
  {
   "cell_type": "code",
   "execution_count": null,
   "id": "b3f637f3",
   "metadata": {},
   "outputs": [],
   "source": [
    "def send_alert(message):\n",
    "    # Replace this placeholder with your actual alerting mechanism\n",
    "    print(f\"ALERT: {message}\")"
   ]
  },
  {
   "cell_type": "code",
   "execution_count": null,
   "id": "8e665ab6",
   "metadata": {},
   "outputs": [],
   "source": [
    "def visualize_system_metrics(data_file):\n",
    "    # Read the data from the file into a pandas DataFrame\n",
    "    df = pd.read_csv(data_file)\n",
    "\n",
    "    # Convert the timestamp column to a datetime type\n",
    "    df['Timestamp'] = pd.to_datetime(df['Timestamp'], unit='s')\n",
    "\n",
    "    # Visualize the CPU, Memory, and Disk Usage over time\n",
    "    plt.figure(figsize=(12, 6))\n",
    "    plt.plot(df['Timestamp'], df[' CPU Usage (%)'], label='CPU Usage')\n",
    "    plt.plot(df['Timestamp'], df[' Memory Usage (%)'], label='Memory Usage')\n",
    "    plt.plot(df['Timestamp'], df[' Disk Usage (%)'], label='Disk Usage')\n",
    "    plt.xlabel('Time')\n",
    "    plt.ylabel('Usage (%)')\n",
    "    plt.title('System Metrics')\n",
    "    plt.legend()\n",
    "    plt.show()"
   ]
  },
  {
   "cell_type": "code",
   "execution_count": null,
   "id": "43a84a78",
   "metadata": {},
   "outputs": [],
   "source": [
    "def apply_anomaly_detection(data_file):\n",
    "    # Read the data from the file into a pandas DataFrame\n",
    "    df = pd.read_csv(data_file)\n",
    "\n",
    "    # Define the features for anomaly detection\n",
    "    features = ['CPU Usage (%)', 'Memory Usage (%)', 'Disk Usage (%)']\n",
    "\n",
    "    # Fit the Isolation Forest model to the data\n",
    "    model = IsolationForest(contamination='auto', random_state=42)\n",
    "    model.fit(df[features])\n",
    "\n",
    "    # Predict the anomalies\n",
    "    predictions = model.predict(df[features])\n",
    "\n",
    "    # Get the indices of the anomalies\n",
    "    anomaly_indices = df.index[predictions == -1].tolist()\n",
    "\n",
    "    if anomaly_indices:\n",
    "        print(\"Anomalies detected at the following indices:\")\n",
    "        print(anomaly_indices)\n",
    "        # Raise an alert for each anomaly detected\n",
    "        for index in anomaly_indices:\n",
    "            alert_message = f\"Anomaly detected at index {index}: {df.loc[index]}\"\n",
    "            send_alert(alert_message)\n",
    "    else:\n",
    "        print(\"No anomalies detected.\")"
   ]
  },
  {
   "cell_type": "code",
   "execution_count": null,
   "id": "90e7ea5d",
   "metadata": {},
   "outputs": [],
   "source": [
    "# Define the path to the file where you want to store the collected data\n",
    "data_file = 'system_metrics.csv'"
   ]
  },
  {
   "cell_type": "code",
   "execution_count": null,
   "id": "d4e869d4",
   "metadata": {},
   "outputs": [],
   "source": [
    "# Read the data from the file into a pandas DataFrame\n",
    "df = data_file"
   ]
  },
  {
   "cell_type": "code",
   "execution_count": null,
   "id": "b018e1cc",
   "metadata": {},
   "outputs": [],
   "source": [
    "# Define the sampling interval in seconds\n",
    "sampling_interval = 5"
   ]
  },
  {
   "cell_type": "code",
   "execution_count": null,
   "id": "f4a3487f",
   "metadata": {},
   "outputs": [],
   "source": [
    "# Start the Prometheus HTTP server\n",
    "start_http_server(8000)  # Replace with the desired port number"
   ]
  },
  {
   "cell_type": "code",
   "execution_count": null,
   "id": "6c056333",
   "metadata": {},
   "outputs": [],
   "source": [
    "# Call the function to start collecting system metrics and store them in the data file\n",
    "collect_system_metrics(data_file, sampling_interval)"
   ]
  },
  {
   "cell_type": "code",
   "execution_count": null,
   "id": "64345c0f",
   "metadata": {},
   "outputs": [],
   "source": [
    "# Visualize the system metrics\n",
    "visualize_system_metrics(data_file)"
   ]
  },
  {
   "cell_type": "code",
   "execution_count": null,
   "id": "15306acb",
   "metadata": {},
   "outputs": [],
   "source": [
    "# Apply anomaly detection on the system metrics\n",
    "apply_anomaly_detection(data_file)"
   ]
  },
  {
   "cell_type": "code",
   "execution_count": null,
   "id": "2d430cc0",
   "metadata": {},
   "outputs": [],
   "source": [
    "visualize_system_metrics(data_file)"
   ]
  },
  {
   "cell_type": "code",
   "execution_count": null,
   "id": "8a76e46f",
   "metadata": {},
   "outputs": [],
   "source": [
    "plt.figure(figsize=(12, 6))\n",
    "plt.plot(df['Timestamp'], df[' CPU Usage (%)'])\n",
    "plt.xlabel('Timestamp')\n",
    "plt.ylabel('CPU Usage (%)')\n",
    "plt.title('CPU Usage over Time')\n",
    "plt.grid(True)\n",
    "plt.show()"
   ]
  },
  {
   "cell_type": "code",
   "execution_count": null,
   "id": "f2148292",
   "metadata": {},
   "outputs": [],
   "source": []
  }
 ],
 "metadata": {
  "kernelspec": {
   "display_name": "Python 3 (ipykernel)",
   "language": "python",
   "name": "python3"
  },
  "language_info": {
   "codemirror_mode": {
    "name": "ipython",
    "version": 3
   },
   "file_extension": ".py",
   "mimetype": "text/x-python",
   "name": "python",
   "nbconvert_exporter": "python",
   "pygments_lexer": "ipython3",
   "version": "3.9.16"
  }
 },
 "nbformat": 4,
 "nbformat_minor": 5
}
